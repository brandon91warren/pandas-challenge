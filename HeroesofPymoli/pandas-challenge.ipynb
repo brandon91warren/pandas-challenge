{
 "cells": [
  {
   "cell_type": "markdown",
   "metadata": {},
   "source": [
    "### Heroes Of Pymoli Data Analysis\n",
    "* Of the 1163 active players, the vast majority are male (84%). There also exists, a smaller, but notable proportion of female players (14%).\n",
    "\n",
    "* Our peak age demographic falls between 20-24 (44.8%) with secondary groups falling between 15-19 (18.60%) and 25-29 (13.4%).  \n",
    "-----"
   ]
  },
  {
   "cell_type": "markdown",
   "metadata": {},
   "source": [
    "### Note\n",
    "* Instructions have been included for each segment. You do not have to follow them exactly, but they are included to help you think through the steps."
   ]
  },
  {
   "cell_type": "code",
   "execution_count": 1,
   "metadata": {},
   "outputs": [],
   "source": [
    "# Dependencies and Setup\n",
    "import pandas as pd\n",
    "import numpy as np\n",
    "\n",
    "# File to Load (Remember to Change These)\n",
    "file_to_load = \"./Resources/purchase_data.csv\"\n",
    "\n",
    "# Read Purchasing File and store into Pandas data frame\n",
    "purchase_data = pd.read_csv(file_to_load)"
   ]
  },
  {
   "cell_type": "markdown",
   "metadata": {},
   "source": [
    "## Player Count"
   ]
  },
  {
   "cell_type": "markdown",
   "metadata": {},
   "source": [
    "* Display the total number of players\n"
   ]
  },
  {
   "cell_type": "code",
   "execution_count": 2,
   "metadata": {},
   "outputs": [
    {
     "data": {
      "text/html": [
       "<div>\n",
       "<style scoped>\n",
       "    .dataframe tbody tr th:only-of-type {\n",
       "        vertical-align: middle;\n",
       "    }\n",
       "\n",
       "    .dataframe tbody tr th {\n",
       "        vertical-align: top;\n",
       "    }\n",
       "\n",
       "    .dataframe thead th {\n",
       "        text-align: right;\n",
       "    }\n",
       "</style>\n",
       "<table border=\"1\" class=\"dataframe\">\n",
       "  <thead>\n",
       "    <tr style=\"text-align: right;\">\n",
       "      <th></th>\n",
       "      <th>Total Players</th>\n",
       "    </tr>\n",
       "  </thead>\n",
       "  <tbody>\n",
       "    <tr>\n",
       "      <th>0</th>\n",
       "      <td>576</td>\n",
       "    </tr>\n",
       "  </tbody>\n",
       "</table>\n",
       "</div>"
      ],
      "text/plain": [
       "   Total Players\n",
       "0            576"
      ]
     },
     "execution_count": 2,
     "metadata": {},
     "output_type": "execute_result"
    }
   ],
   "source": [
    "player_demographics = purchase_data.loc[:, [\"Gender\", \"SN\", \"Age\"]]\n",
    "player_demographics = player_demographics.drop_duplicates()\n",
    "num_players = player_demographics.count()[0]\n",
    "pd.DataFrame({\"Total Players\": [num_players]})"
   ]
  },
  {
   "cell_type": "markdown",
   "metadata": {},
   "source": [
    "## Purchasing Analysis (Total)"
   ]
  },
  {
   "cell_type": "markdown",
   "metadata": {},
   "source": [
    "* Run basic calculations to obtain number of unique items, average price, etc.\n",
    "\n",
    "\n",
    "* Create a summary data frame to hold the results\n",
    "\n",
    "\n",
    "* Optional: give the displayed data cleaner formatting\n",
    "\n",
    "\n",
    "* Display the summary data frame\n"
   ]
  },
  {
   "cell_type": "code",
   "execution_count": 3,
   "metadata": {},
   "outputs": [
    {
     "data": {
      "text/html": [
       "<style  type=\"text/css\" >\n",
       "</style><table id=\"T_b02b44b6_d84c_11e9_96bf_38f9d367ce9b\" ><thead>    <tr>        <th class=\"blank level0\" ></th>        <th class=\"col_heading level0 col0\" >Number of Unique Items</th>        <th class=\"col_heading level0 col1\" >Average Purchase Price</th>        <th class=\"col_heading level0 col2\" >Number of Purchases</th>        <th class=\"col_heading level0 col3\" >Total Revenue</th>    </tr></thead><tbody>\n",
       "                <tr>\n",
       "                        <th id=\"T_b02b44b6_d84c_11e9_96bf_38f9d367ce9blevel0_row0\" class=\"row_heading level0 row0\" >0</th>\n",
       "                        <td id=\"T_b02b44b6_d84c_11e9_96bf_38f9d367ce9brow0_col0\" class=\"data row0 col0\" >183</td>\n",
       "                        <td id=\"T_b02b44b6_d84c_11e9_96bf_38f9d367ce9brow0_col1\" class=\"data row0 col1\" >$3.05</td>\n",
       "                        <td id=\"T_b02b44b6_d84c_11e9_96bf_38f9d367ce9brow0_col2\" class=\"data row0 col2\" >780</td>\n",
       "                        <td id=\"T_b02b44b6_d84c_11e9_96bf_38f9d367ce9brow0_col3\" class=\"data row0 col3\" >$2379.77</td>\n",
       "            </tr>\n",
       "    </tbody></table>"
      ],
      "text/plain": [
       "<pandas.io.formats.style.Styler at 0x10291e208>"
      ]
     },
     "execution_count": 3,
     "metadata": {},
     "output_type": "execute_result"
    }
   ],
   "source": [
    "average_item_price = purchase_data[\"Price\"].mean()\n",
    "total_purchase_value = purchase_data[\"Price\"].sum()\n",
    "purchase_count = purchase_data[\"Price\"].count()\n",
    "item_count = len(purchase_data[\"Item ID\"].unique())\n",
    "\n",
    "summary_table = pd.DataFrame({\"Number of Unique Items\": item_count,\n",
    "                               \"Total Revenue\": [total_purchase_value],\n",
    "                               \"Number of Purchases\": [purchase_count],\n",
    "                               \"Average Purchase Price\": [average_item_price]})\n",
    "\n",
    "summary_table = summary_table.round(2)\n",
    "summary_table [\"Average Price\"] = summary_table[\"Average Purchase Price\"]\n",
    "summary_table [\"Total Revenue\"] = summary_table[\"Total Revenue\"]\n",
    "summary_table = summary_table.loc[:, [\"Number of Unique Items\", \"Average Purchase Price\", \"Number of Purchases\", \"Total Revenue\"]]\n",
    "summary_table = summary_table.style.format({\"Average Purchase Price\": \"${:.2f}\", \"Total Revenue\": \"${:.2f}\"})\n",
    "\n",
    "summary_table"
   ]
  },
  {
   "cell_type": "markdown",
   "metadata": {},
   "source": [
    "## Gender Demographics"
   ]
  },
  {
   "cell_type": "markdown",
   "metadata": {},
   "source": [
    "* Percentage and Count of Male Players\n",
    "\n",
    "\n",
    "* Percentage and Count of Female Players\n",
    "\n",
    "\n",
    "* Percentage and Count of Other / Non-Disclosed\n",
    "\n",
    "\n"
   ]
  },
  {
   "cell_type": "code",
   "execution_count": 4,
   "metadata": {},
   "outputs": [
    {
     "data": {
      "text/html": [
       "<style  type=\"text/css\" >\n",
       "</style><table id=\"T_b3950f88_d84c_11e9_96bf_38f9d367ce9b\" ><thead>    <tr>        <th class=\"blank level0\" ></th>        <th class=\"col_heading level0 col0\" >Total Count</th>        <th class=\"col_heading level0 col1\" >Percentage of Players</th>    </tr></thead><tbody>\n",
       "                <tr>\n",
       "                        <th id=\"T_b3950f88_d84c_11e9_96bf_38f9d367ce9blevel0_row0\" class=\"row_heading level0 row0\" >Male</th>\n",
       "                        <td id=\"T_b3950f88_d84c_11e9_96bf_38f9d367ce9brow0_col0\" class=\"data row0 col0\" >484</td>\n",
       "                        <td id=\"T_b3950f88_d84c_11e9_96bf_38f9d367ce9brow0_col1\" class=\"data row0 col1\" >84.03%</td>\n",
       "            </tr>\n",
       "            <tr>\n",
       "                        <th id=\"T_b3950f88_d84c_11e9_96bf_38f9d367ce9blevel0_row1\" class=\"row_heading level0 row1\" >Female</th>\n",
       "                        <td id=\"T_b3950f88_d84c_11e9_96bf_38f9d367ce9brow1_col0\" class=\"data row1 col0\" >81</td>\n",
       "                        <td id=\"T_b3950f88_d84c_11e9_96bf_38f9d367ce9brow1_col1\" class=\"data row1 col1\" >14.06%</td>\n",
       "            </tr>\n",
       "            <tr>\n",
       "                        <th id=\"T_b3950f88_d84c_11e9_96bf_38f9d367ce9blevel0_row2\" class=\"row_heading level0 row2\" >Other / Non-Disclosed</th>\n",
       "                        <td id=\"T_b3950f88_d84c_11e9_96bf_38f9d367ce9brow2_col0\" class=\"data row2 col0\" >11</td>\n",
       "                        <td id=\"T_b3950f88_d84c_11e9_96bf_38f9d367ce9brow2_col1\" class=\"data row2 col1\" >1.91%</td>\n",
       "            </tr>\n",
       "    </tbody></table>"
      ],
      "text/plain": [
       "<pandas.io.formats.style.Styler at 0x11226b0f0>"
      ]
     },
     "execution_count": 4,
     "metadata": {},
     "output_type": "execute_result"
    }
   ],
   "source": [
    "gender_demographics_totals = player_demographics[\"Gender\"].value_counts()\n",
    "gender_demographics_percents = gender_demographics_totals / num_players * 100\n",
    "# Data Cleanup\n",
    "gender_demographics = pd.DataFrame({\"Total Count\": gender_demographics_totals,\n",
    "                                    \"Percentage of Players\": gender_demographics_percents})\n",
    "\n",
    "gender_demographics = gender_demographics.round(2)\n",
    "gender_demographics = gender_demographics.style.format({\"Percentage of Players\": \"{:.2f}%\"})\n",
    "#Data Gender_demographics\n",
    "gender_demographics"
   ]
  },
  {
   "cell_type": "markdown",
   "metadata": {},
   "source": [
    "\n",
    "## Purchasing Analysis (Gender)"
   ]
  },
  {
   "cell_type": "markdown",
   "metadata": {},
   "source": [
    "* Run basic calculations to obtain purchase count, avg. purchase price, avg. purchase total per person etc. by gender\n",
    "\n",
    "\n",
    "\n",
    "\n",
    "* Create a summary data frame to hold the results\n",
    "\n",
    "\n",
    "* Optional: give the displayed data cleaner formatting\n",
    "\n",
    "\n",
    "* Display the summary data frame"
   ]
  },
  {
   "cell_type": "code",
   "execution_count": 50,
   "metadata": {},
   "outputs": [
    {
     "data": {
      "text/html": [
       "<style  type=\"text/css\" >\n",
       "</style><table id=\"T_c5a27b88_d857_11e9_96bf_38f9d367ce9b\" ><thead>    <tr>        <th class=\"blank level0\" ></th>        <th class=\"col_heading level0 col0\" >Purchase Count</th>        <th class=\"col_heading level0 col1\" >Average Purchase Price</th>        <th class=\"col_heading level0 col2\" >Total Purchase Value</th>        <th class=\"col_heading level0 col3\" >Avg Total Purchase per Person</th>    </tr>    <tr>        <th class=\"index_name level0\" >Gender</th>        <th class=\"blank\" ></th>        <th class=\"blank\" ></th>        <th class=\"blank\" ></th>        <th class=\"blank\" ></th>    </tr></thead><tbody>\n",
       "                <tr>\n",
       "                        <th id=\"T_c5a27b88_d857_11e9_96bf_38f9d367ce9blevel0_row0\" class=\"row_heading level0 row0\" >Female</th>\n",
       "                        <td id=\"T_c5a27b88_d857_11e9_96bf_38f9d367ce9brow0_col0\" class=\"data row0 col0\" >113</td>\n",
       "                        <td id=\"T_c5a27b88_d857_11e9_96bf_38f9d367ce9brow0_col1\" class=\"data row0 col1\" >$3.20</td>\n",
       "                        <td id=\"T_c5a27b88_d857_11e9_96bf_38f9d367ce9brow0_col2\" class=\"data row0 col2\" >$361.94</td>\n",
       "                        <td id=\"T_c5a27b88_d857_11e9_96bf_38f9d367ce9brow0_col3\" class=\"data row0 col3\" >$3.20</td>\n",
       "            </tr>\n",
       "            <tr>\n",
       "                        <th id=\"T_c5a27b88_d857_11e9_96bf_38f9d367ce9blevel0_row1\" class=\"row_heading level0 row1\" >Male</th>\n",
       "                        <td id=\"T_c5a27b88_d857_11e9_96bf_38f9d367ce9brow1_col0\" class=\"data row1 col0\" >652</td>\n",
       "                        <td id=\"T_c5a27b88_d857_11e9_96bf_38f9d367ce9brow1_col1\" class=\"data row1 col1\" >$3.02</td>\n",
       "                        <td id=\"T_c5a27b88_d857_11e9_96bf_38f9d367ce9brow1_col2\" class=\"data row1 col2\" >$1967.64</td>\n",
       "                        <td id=\"T_c5a27b88_d857_11e9_96bf_38f9d367ce9brow1_col3\" class=\"data row1 col3\" >$3.02</td>\n",
       "            </tr>\n",
       "            <tr>\n",
       "                        <th id=\"T_c5a27b88_d857_11e9_96bf_38f9d367ce9blevel0_row2\" class=\"row_heading level0 row2\" >Other / Non-Disclosed</th>\n",
       "                        <td id=\"T_c5a27b88_d857_11e9_96bf_38f9d367ce9brow2_col0\" class=\"data row2 col0\" >15</td>\n",
       "                        <td id=\"T_c5a27b88_d857_11e9_96bf_38f9d367ce9brow2_col1\" class=\"data row2 col1\" >$3.35</td>\n",
       "                        <td id=\"T_c5a27b88_d857_11e9_96bf_38f9d367ce9brow2_col2\" class=\"data row2 col2\" >$50.19</td>\n",
       "                        <td id=\"T_c5a27b88_d857_11e9_96bf_38f9d367ce9brow2_col3\" class=\"data row2 col3\" >$3.35</td>\n",
       "            </tr>\n",
       "    </tbody></table>"
      ],
      "text/plain": [
       "<pandas.io.formats.style.Styler at 0x1133e05f8>"
      ]
     },
     "execution_count": 50,
     "metadata": {},
     "output_type": "execute_result"
    }
   ],
   "source": [
    "gender_purchase_total = purchase_data.groupby([\"Gender\"]).sum()[\"Price\"].rename(\"Total Purchase Value\")\n",
    "average_purchase_price = purchase_data.groupby([\"Gender\"]).mean()[\"Price\"].rename(\"Average Purchase Price\")\n",
    "average_purchase_price = average_purchase_price.round(2)\n",
    "gender_average = purchase_data.groupby([\"Gender\"]).mean()[\"Price\"].rename(\"Avg Total Purchase per Person\")\n",
    "gender_average = gender_average.round(2)\n",
    "gender_counts = purchase_data.groupby([\"Gender\"]).count()[\"Price\"].rename(\"Purchase Count\")\n",
    "\n",
    "\n",
    "\n",
    "# Cleanup\n",
    "gender_data = pd.DataFrame({\"Purchase Count\": gender_counts, \n",
    "                            \"Average Purchase Price\": average_purchase_price,\n",
    "                            \"Total Purchase Value\": gender_purchase_total, \n",
    "                            \"Avg Total Purchase per Person\": gender_average})\n",
    "\n",
    "gender_data = gender_data.style.format({\"Average Purchase Price\": \"${:.2f}\", \"Total Purchase Value\": \"${:.2f}\",\"Avg Total Purchase per Person\": \"${:.2f}\"})\n",
    "\n",
    "#Display\n",
    "gender_data"
   ]
  },
  {
   "cell_type": "markdown",
   "metadata": {},
   "source": [
    "## Age Demographics"
   ]
  },
  {
   "cell_type": "markdown",
   "metadata": {},
   "source": [
    "* Establish bins for ages\n",
    "\n",
    "\n",
    "* Categorize the existing players using the age bins. Hint: use pd.cut()\n",
    "\n",
    "\n",
    "* Calculate the numbers and percentages by age group\n",
    "\n",
    "\n",
    "* Create a summary data frame to hold the results\n",
    "\n",
    "\n",
    "* Optional: round the percentage column to two decimal points\n",
    "\n",
    "\n",
    "* Display Age Demographics Table\n"
   ]
  },
  {
   "cell_type": "code",
   "execution_count": 39,
   "metadata": {},
   "outputs": [
    {
     "data": {
      "text/html": [
       "<div>\n",
       "<style scoped>\n",
       "    .dataframe tbody tr th:only-of-type {\n",
       "        vertical-align: middle;\n",
       "    }\n",
       "\n",
       "    .dataframe tbody tr th {\n",
       "        vertical-align: top;\n",
       "    }\n",
       "\n",
       "    .dataframe thead th {\n",
       "        text-align: right;\n",
       "    }\n",
       "</style>\n",
       "<table border=\"1\" class=\"dataframe\">\n",
       "  <thead>\n",
       "    <tr style=\"text-align: right;\">\n",
       "      <th></th>\n",
       "      <th>Total Count</th>\n",
       "      <th>Percent of Players</th>\n",
       "    </tr>\n",
       "  </thead>\n",
       "  <tbody>\n",
       "    <tr>\n",
       "      <th>&lt;10</th>\n",
       "      <td>17</td>\n",
       "      <td>2.95</td>\n",
       "    </tr>\n",
       "    <tr>\n",
       "      <th>10-14</th>\n",
       "      <td>22</td>\n",
       "      <td>3.82</td>\n",
       "    </tr>\n",
       "    <tr>\n",
       "      <th>15-19</th>\n",
       "      <td>107</td>\n",
       "      <td>18.58</td>\n",
       "    </tr>\n",
       "    <tr>\n",
       "      <th>20-24</th>\n",
       "      <td>258</td>\n",
       "      <td>44.79</td>\n",
       "    </tr>\n",
       "    <tr>\n",
       "      <th>25-29</th>\n",
       "      <td>77</td>\n",
       "      <td>13.37</td>\n",
       "    </tr>\n",
       "    <tr>\n",
       "      <th>30-34</th>\n",
       "      <td>52</td>\n",
       "      <td>9.03</td>\n",
       "    </tr>\n",
       "    <tr>\n",
       "      <th>35-39</th>\n",
       "      <td>31</td>\n",
       "      <td>5.38</td>\n",
       "    </tr>\n",
       "    <tr>\n",
       "      <th>40+</th>\n",
       "      <td>12</td>\n",
       "      <td>2.08</td>\n",
       "    </tr>\n",
       "  </tbody>\n",
       "</table>\n",
       "</div>"
      ],
      "text/plain": [
       "       Total Count  Percent of Players\n",
       "<10             17                2.95\n",
       "10-14           22                3.82\n",
       "15-19          107               18.58\n",
       "20-24          258               44.79\n",
       "25-29           77               13.37\n",
       "30-34           52                9.03\n",
       "35-39           31                5.38\n",
       "40+             12                2.08"
      ]
     },
     "execution_count": 39,
     "metadata": {},
     "output_type": "execute_result"
    }
   ],
   "source": [
    "age_bins = [0, 9.90, 14.90, 19.90, 24.9, 29.9, 34.90, 39.90, 9999999,]\n",
    "group_names = [\"<10\", \"10-14\", \"15-19\", \"20-24\", \"25-29\", \"30-34\", \"35-39\", \"40+\"]\n",
    "\n",
    "#Use Cut to categorize players\n",
    "player_demographics[\"Age Ranges\"] = pd.cut(player_demographics[\"Age\"], age_bins, labels=group_names)\n",
    "\n",
    "age_demographics_totals = player_demographics[\"Age Ranges\"].value_counts()\n",
    "age_demographics_percents = age_demographics_totals / num_players * 100\n",
    "age_demographics_percents = age_demographics_percents.round(2)\n",
    "\n",
    "age_demographics = pd.DataFrame({\"Total Count\": age_demographics_totals, \"Percent of Players\": age_demographics_percents})\n",
    "age_demographics = age_demographics.sort_index()\n",
    "age_demographics"
   ]
  },
  {
   "cell_type": "markdown",
   "metadata": {},
   "source": [
    "## Purchasing Analysis (Age)"
   ]
  },
  {
   "cell_type": "markdown",
   "metadata": {},
   "source": [
    "* Bin the purchase_data data frame by age\n",
    "\n",
    "\n",
    "* Run basic calculations to obtain purchase count, avg. purchase price, avg. purchase total per person etc. in the table below\n",
    "\n",
    "\n",
    "* Create a summary data frame to hold the results\n",
    "\n",
    "\n",
    "* Optional: give the displayed data cleaner formatting\n",
    "\n",
    "\n",
    "* Display the summary data frame"
   ]
  },
  {
   "cell_type": "code",
   "execution_count": 138,
   "metadata": {},
   "outputs": [
    {
     "data": {
      "text/html": [
       "<style  type=\"text/css\" >\n",
       "</style><table id=\"T_dd7c29b4_d863_11e9_96bf_38f9d367ce9b\" ><thead>    <tr>        <th class=\"blank level0\" ></th>        <th class=\"col_heading level0 col0\" >Purchase Count</th>        <th class=\"col_heading level0 col1\" >Average Purchase Price</th>        <th class=\"col_heading level0 col2\" >Total Purchase Value</th>        <th class=\"col_heading level0 col3\" >Average Purchase Total per Person</th>    </tr>    <tr>        <th class=\"index_name level0\" >Age Group</th>        <th class=\"blank\" ></th>        <th class=\"blank\" ></th>        <th class=\"blank\" ></th>        <th class=\"blank\" ></th>    </tr></thead><tbody>\n",
       "                <tr>\n",
       "                        <th id=\"T_dd7c29b4_d863_11e9_96bf_38f9d367ce9blevel0_row0\" class=\"row_heading level0 row0\" ><10</th>\n",
       "                        <td id=\"T_dd7c29b4_d863_11e9_96bf_38f9d367ce9brow0_col0\" class=\"data row0 col0\" >23</td>\n",
       "                        <td id=\"T_dd7c29b4_d863_11e9_96bf_38f9d367ce9brow0_col1\" class=\"data row0 col1\" >$3.35</td>\n",
       "                        <td id=\"T_dd7c29b4_d863_11e9_96bf_38f9d367ce9brow0_col2\" class=\"data row0 col2\" >$77.13</td>\n",
       "                        <td id=\"T_dd7c29b4_d863_11e9_96bf_38f9d367ce9brow0_col3\" class=\"data row0 col3\" >$4.54</td>\n",
       "            </tr>\n",
       "            <tr>\n",
       "                        <th id=\"T_dd7c29b4_d863_11e9_96bf_38f9d367ce9blevel0_row1\" class=\"row_heading level0 row1\" >10-14</th>\n",
       "                        <td id=\"T_dd7c29b4_d863_11e9_96bf_38f9d367ce9brow1_col0\" class=\"data row1 col0\" >28</td>\n",
       "                        <td id=\"T_dd7c29b4_d863_11e9_96bf_38f9d367ce9brow1_col1\" class=\"data row1 col1\" >$2.96</td>\n",
       "                        <td id=\"T_dd7c29b4_d863_11e9_96bf_38f9d367ce9brow1_col2\" class=\"data row1 col2\" >$82.78</td>\n",
       "                        <td id=\"T_dd7c29b4_d863_11e9_96bf_38f9d367ce9brow1_col3\" class=\"data row1 col3\" >$3.76</td>\n",
       "            </tr>\n",
       "            <tr>\n",
       "                        <th id=\"T_dd7c29b4_d863_11e9_96bf_38f9d367ce9blevel0_row2\" class=\"row_heading level0 row2\" >15-19</th>\n",
       "                        <td id=\"T_dd7c29b4_d863_11e9_96bf_38f9d367ce9brow2_col0\" class=\"data row2 col0\" >136</td>\n",
       "                        <td id=\"T_dd7c29b4_d863_11e9_96bf_38f9d367ce9brow2_col1\" class=\"data row2 col1\" >$3.04</td>\n",
       "                        <td id=\"T_dd7c29b4_d863_11e9_96bf_38f9d367ce9brow2_col2\" class=\"data row2 col2\" >$412.89</td>\n",
       "                        <td id=\"T_dd7c29b4_d863_11e9_96bf_38f9d367ce9brow2_col3\" class=\"data row2 col3\" >$3.86</td>\n",
       "            </tr>\n",
       "            <tr>\n",
       "                        <th id=\"T_dd7c29b4_d863_11e9_96bf_38f9d367ce9blevel0_row3\" class=\"row_heading level0 row3\" >20-24</th>\n",
       "                        <td id=\"T_dd7c29b4_d863_11e9_96bf_38f9d367ce9brow3_col0\" class=\"data row3 col0\" >365</td>\n",
       "                        <td id=\"T_dd7c29b4_d863_11e9_96bf_38f9d367ce9brow3_col1\" class=\"data row3 col1\" >$3.05</td>\n",
       "                        <td id=\"T_dd7c29b4_d863_11e9_96bf_38f9d367ce9brow3_col2\" class=\"data row3 col2\" >$1,114.06</td>\n",
       "                        <td id=\"T_dd7c29b4_d863_11e9_96bf_38f9d367ce9brow3_col3\" class=\"data row3 col3\" >$4.32</td>\n",
       "            </tr>\n",
       "            <tr>\n",
       "                        <th id=\"T_dd7c29b4_d863_11e9_96bf_38f9d367ce9blevel0_row4\" class=\"row_heading level0 row4\" >25-29</th>\n",
       "                        <td id=\"T_dd7c29b4_d863_11e9_96bf_38f9d367ce9brow4_col0\" class=\"data row4 col0\" >101</td>\n",
       "                        <td id=\"T_dd7c29b4_d863_11e9_96bf_38f9d367ce9brow4_col1\" class=\"data row4 col1\" >$2.90</td>\n",
       "                        <td id=\"T_dd7c29b4_d863_11e9_96bf_38f9d367ce9brow4_col2\" class=\"data row4 col2\" >$293.00</td>\n",
       "                        <td id=\"T_dd7c29b4_d863_11e9_96bf_38f9d367ce9brow4_col3\" class=\"data row4 col3\" >$3.81</td>\n",
       "            </tr>\n",
       "            <tr>\n",
       "                        <th id=\"T_dd7c29b4_d863_11e9_96bf_38f9d367ce9blevel0_row5\" class=\"row_heading level0 row5\" >30-34</th>\n",
       "                        <td id=\"T_dd7c29b4_d863_11e9_96bf_38f9d367ce9brow5_col0\" class=\"data row5 col0\" >73</td>\n",
       "                        <td id=\"T_dd7c29b4_d863_11e9_96bf_38f9d367ce9brow5_col1\" class=\"data row5 col1\" >$2.93</td>\n",
       "                        <td id=\"T_dd7c29b4_d863_11e9_96bf_38f9d367ce9brow5_col2\" class=\"data row5 col2\" >$214.00</td>\n",
       "                        <td id=\"T_dd7c29b4_d863_11e9_96bf_38f9d367ce9brow5_col3\" class=\"data row5 col3\" >$4.12</td>\n",
       "            </tr>\n",
       "            <tr>\n",
       "                        <th id=\"T_dd7c29b4_d863_11e9_96bf_38f9d367ce9blevel0_row6\" class=\"row_heading level0 row6\" >35-39</th>\n",
       "                        <td id=\"T_dd7c29b4_d863_11e9_96bf_38f9d367ce9brow6_col0\" class=\"data row6 col0\" >41</td>\n",
       "                        <td id=\"T_dd7c29b4_d863_11e9_96bf_38f9d367ce9brow6_col1\" class=\"data row6 col1\" >$3.60</td>\n",
       "                        <td id=\"T_dd7c29b4_d863_11e9_96bf_38f9d367ce9brow6_col2\" class=\"data row6 col2\" >$147.67</td>\n",
       "                        <td id=\"T_dd7c29b4_d863_11e9_96bf_38f9d367ce9brow6_col3\" class=\"data row6 col3\" >$4.76</td>\n",
       "            </tr>\n",
       "            <tr>\n",
       "                        <th id=\"T_dd7c29b4_d863_11e9_96bf_38f9d367ce9blevel0_row7\" class=\"row_heading level0 row7\" >40+</th>\n",
       "                        <td id=\"T_dd7c29b4_d863_11e9_96bf_38f9d367ce9brow7_col0\" class=\"data row7 col0\" >13</td>\n",
       "                        <td id=\"T_dd7c29b4_d863_11e9_96bf_38f9d367ce9brow7_col1\" class=\"data row7 col1\" >$2.94</td>\n",
       "                        <td id=\"T_dd7c29b4_d863_11e9_96bf_38f9d367ce9brow7_col2\" class=\"data row7 col2\" >$38.24</td>\n",
       "                        <td id=\"T_dd7c29b4_d863_11e9_96bf_38f9d367ce9brow7_col3\" class=\"data row7 col3\" >$3.19</td>\n",
       "            </tr>\n",
       "    </tbody></table>"
      ],
      "text/plain": [
       "<pandas.io.formats.style.Styler at 0x113aab7f0>"
      ]
     },
     "execution_count": 138,
     "metadata": {},
     "output_type": "execute_result"
    }
   ],
   "source": [
    "age_bins = [0,9.90, 14.90, 19.90, 24.9, 29.9, 34.90, 39.90, 9999999]\n",
    "group_names = [\"<10\",\"10-14\",\"15-19\", \"20-24\", \"25-29\", \"30-34\", \"35-39\", \"40+\"]\n",
    "\n",
    "#Use Cut to categorize players\n",
    "player_demographics[\"Age Ranges\"] = pd.cut(player_demographics[\"Age\"], age_bins, labels=group_names)\n",
    "\n",
    "purchase_count_age = age_grouped[\"Purchase ID\"].count()\n",
    "avg_purchase_price_age = age_grouped[\"Price\"].mean()\n",
    "total_purchase_value = age_grouped[\"Price\"].sum()\n",
    "avg_purchase_per_person_age = total_purchase_value/total_count_age.round(2)\n",
    "\n",
    "age_demographics = pd.DataFrame({\"Purchase Count\": purchase_count_age,\n",
    "                                 \"Average Purchase Price\": avg_purchase_price_age,\n",
    "                                 \"Total Purchase Value\":total_purchase_value,\n",
    "                                 \"Average Purchase Total per Person\": avg_purchase_per_person_age})\n",
    "\n",
    "age_demographics = age_demographics.sort_index()\n",
    "age_demographics.style.format({\"Average Purchase Price\":\"${:,.2f}\",\n",
    "                               \"Total Purchase Value\":\"${:,.2f}\",\n",
    "                               \"Average Purchase Total per Person\":\"${:,.2f}\"})"
   ]
  },
  {
   "cell_type": "markdown",
   "metadata": {},
   "source": [
    "## Top Spenders"
   ]
  },
  {
   "cell_type": "markdown",
   "metadata": {},
   "source": [
    "* Run basic calculations to obtain the results in the table below\n",
    "\n",
    "\n",
    "* Create a summary data frame to hold the results\n",
    "\n",
    "\n",
    "* Sort the total purchase value column in descending order\n",
    "\n",
    "\n",
    "* Optional: give the displayed data cleaner formatting\n",
    "\n",
    "\n",
    "* Display a preview of the summary data frame\n",
    "\n"
   ]
  },
  {
   "cell_type": "code",
   "execution_count": 25,
   "metadata": {},
   "outputs": [
    {
     "data": {
      "text/html": [
       "<style  type=\"text/css\" >\n",
       "</style><table id=\"T_4e4af458_d851_11e9_96bf_38f9d367ce9b\" ><thead>    <tr>        <th class=\"blank level0\" ></th>        <th class=\"col_heading level0 col0\" >Purchase Count</th>        <th class=\"col_heading level0 col1\" >Average Purchase Price</th>        <th class=\"col_heading level0 col2\" >Total Purchase Value</th>    </tr>    <tr>        <th class=\"index_name level0\" >SN</th>        <th class=\"blank\" ></th>        <th class=\"blank\" ></th>        <th class=\"blank\" ></th>    </tr></thead><tbody>\n",
       "                <tr>\n",
       "                        <th id=\"T_4e4af458_d851_11e9_96bf_38f9d367ce9blevel0_row0\" class=\"row_heading level0 row0\" >Lisosia93</th>\n",
       "                        <td id=\"T_4e4af458_d851_11e9_96bf_38f9d367ce9brow0_col0\" class=\"data row0 col0\" >5</td>\n",
       "                        <td id=\"T_4e4af458_d851_11e9_96bf_38f9d367ce9brow0_col1\" class=\"data row0 col1\" >$3.79</td>\n",
       "                        <td id=\"T_4e4af458_d851_11e9_96bf_38f9d367ce9brow0_col2\" class=\"data row0 col2\" >$18.96</td>\n",
       "            </tr>\n",
       "            <tr>\n",
       "                        <th id=\"T_4e4af458_d851_11e9_96bf_38f9d367ce9blevel0_row1\" class=\"row_heading level0 row1\" >Idastidru52</th>\n",
       "                        <td id=\"T_4e4af458_d851_11e9_96bf_38f9d367ce9brow1_col0\" class=\"data row1 col0\" >4</td>\n",
       "                        <td id=\"T_4e4af458_d851_11e9_96bf_38f9d367ce9brow1_col1\" class=\"data row1 col1\" >$3.86</td>\n",
       "                        <td id=\"T_4e4af458_d851_11e9_96bf_38f9d367ce9brow1_col2\" class=\"data row1 col2\" >$15.45</td>\n",
       "            </tr>\n",
       "            <tr>\n",
       "                        <th id=\"T_4e4af458_d851_11e9_96bf_38f9d367ce9blevel0_row2\" class=\"row_heading level0 row2\" >Chamjask73</th>\n",
       "                        <td id=\"T_4e4af458_d851_11e9_96bf_38f9d367ce9brow2_col0\" class=\"data row2 col0\" >3</td>\n",
       "                        <td id=\"T_4e4af458_d851_11e9_96bf_38f9d367ce9brow2_col1\" class=\"data row2 col1\" >$4.61</td>\n",
       "                        <td id=\"T_4e4af458_d851_11e9_96bf_38f9d367ce9brow2_col2\" class=\"data row2 col2\" >$13.83</td>\n",
       "            </tr>\n",
       "            <tr>\n",
       "                        <th id=\"T_4e4af458_d851_11e9_96bf_38f9d367ce9blevel0_row3\" class=\"row_heading level0 row3\" >Iral74</th>\n",
       "                        <td id=\"T_4e4af458_d851_11e9_96bf_38f9d367ce9brow3_col0\" class=\"data row3 col0\" >4</td>\n",
       "                        <td id=\"T_4e4af458_d851_11e9_96bf_38f9d367ce9brow3_col1\" class=\"data row3 col1\" >$3.40</td>\n",
       "                        <td id=\"T_4e4af458_d851_11e9_96bf_38f9d367ce9brow3_col2\" class=\"data row3 col2\" >$13.62</td>\n",
       "            </tr>\n",
       "            <tr>\n",
       "                        <th id=\"T_4e4af458_d851_11e9_96bf_38f9d367ce9blevel0_row4\" class=\"row_heading level0 row4\" >Iskadarya95</th>\n",
       "                        <td id=\"T_4e4af458_d851_11e9_96bf_38f9d367ce9brow4_col0\" class=\"data row4 col0\" >3</td>\n",
       "                        <td id=\"T_4e4af458_d851_11e9_96bf_38f9d367ce9brow4_col1\" class=\"data row4 col1\" >$4.37</td>\n",
       "                        <td id=\"T_4e4af458_d851_11e9_96bf_38f9d367ce9brow4_col2\" class=\"data row4 col2\" >$13.10</td>\n",
       "            </tr>\n",
       "    </tbody></table>"
      ],
      "text/plain": [
       "<pandas.io.formats.style.Styler at 0x113811160>"
      ]
     },
     "execution_count": 25,
     "metadata": {},
     "output_type": "execute_result"
    }
   ],
   "source": [
    "#Basic Calculations\n",
    "user_total = purchase_data.groupby([\"SN\"]).sum()[\"Price\"].rename(\"Total Purchase Amount\")\n",
    "user_average = purchase_data.groupby([\"SN\"]).mean()[\"Price\"].rename(\"Average Purchase Price\")\n",
    "user_average = user_average.round(2)\n",
    "user_count = purchase_data.groupby([\"SN\"]).count()[\"Price\"].rename(\"Purchase Count\")\n",
    "\n",
    "user_data = pd.DataFrame({\"Purchase Count\": user_count,\n",
    "                          \"Average Purchase Price\": user_average,\n",
    "                          \"Total Purchase Value\": user_total})\n",
    "\n",
    "\n",
    "# Convert to Data Frame\n",
    "user_data = user_data.sort_values(\"Total Purchase Value\", ascending=False).head()\n",
    "\n",
    "user_data.style.format({\"Average Purchase Total\":\"${:,.2f}\",\"Average Purchase Price\":\"${:,.2f}\",\"Total Purchase Value\":\"${:,.2f}\"})\n"
   ]
  },
  {
   "cell_type": "markdown",
   "metadata": {},
   "source": [
    "## Most Popular Items"
   ]
  },
  {
   "cell_type": "markdown",
   "metadata": {},
   "source": [
    "* Retrieve the Item ID, Item Name, and Item Price columns\n",
    "\n",
    "\n",
    "* Group by Item ID and Item Name. Perform calculations to obtain purchase count, item price, and total purchase value\n",
    "\n",
    "\n",
    "* Create a summary data frame to hold the results\n",
    "\n",
    "\n",
    "* Sort the purchase count column in descending order\n",
    "\n",
    "\n",
    "* Optional: give the displayed data cleaner formatting\n",
    "\n",
    "\n",
    "* Display a preview of the summary data frame\n",
    "\n"
   ]
  },
  {
   "cell_type": "code",
   "execution_count": 28,
   "metadata": {},
   "outputs": [
    {
     "data": {
      "text/html": [
       "<style  type=\"text/css\" >\n",
       "</style><table id=\"T_ce1087de_d851_11e9_96bf_38f9d367ce9b\" ><thead>    <tr>        <th class=\"blank\" ></th>        <th class=\"blank level0\" ></th>        <th class=\"col_heading level0 col0\" >Purchase Count</th>        <th class=\"col_heading level0 col1\" >Item Price</th>        <th class=\"col_heading level0 col2\" >Total Purchase Value</th>    </tr>    <tr>        <th class=\"index_name level0\" >Item ID</th>        <th class=\"index_name level1\" >Item Name</th>        <th class=\"blank\" ></th>        <th class=\"blank\" ></th>        <th class=\"blank\" ></th>    </tr></thead><tbody>\n",
       "                <tr>\n",
       "                        <th id=\"T_ce1087de_d851_11e9_96bf_38f9d367ce9blevel0_row0\" class=\"row_heading level0 row0\" >178</th>\n",
       "                        <th id=\"T_ce1087de_d851_11e9_96bf_38f9d367ce9blevel1_row0\" class=\"row_heading level1 row0\" >Oathbreaker, Last Hope of the Breaking Storm</th>\n",
       "                        <td id=\"T_ce1087de_d851_11e9_96bf_38f9d367ce9brow0_col0\" class=\"data row0 col0\" >12</td>\n",
       "                        <td id=\"T_ce1087de_d851_11e9_96bf_38f9d367ce9brow0_col1\" class=\"data row0 col1\" >$4.23</td>\n",
       "                        <td id=\"T_ce1087de_d851_11e9_96bf_38f9d367ce9brow0_col2\" class=\"data row0 col2\" >$50.76</td>\n",
       "            </tr>\n",
       "            <tr>\n",
       "                        <th id=\"T_ce1087de_d851_11e9_96bf_38f9d367ce9blevel0_row1\" class=\"row_heading level0 row1\" >145</th>\n",
       "                        <th id=\"T_ce1087de_d851_11e9_96bf_38f9d367ce9blevel1_row1\" class=\"row_heading level1 row1\" >Fiery Glass Crusader</th>\n",
       "                        <td id=\"T_ce1087de_d851_11e9_96bf_38f9d367ce9brow1_col0\" class=\"data row1 col0\" >9</td>\n",
       "                        <td id=\"T_ce1087de_d851_11e9_96bf_38f9d367ce9brow1_col1\" class=\"data row1 col1\" >$4.58</td>\n",
       "                        <td id=\"T_ce1087de_d851_11e9_96bf_38f9d367ce9brow1_col2\" class=\"data row1 col2\" >$41.22</td>\n",
       "            </tr>\n",
       "            <tr>\n",
       "                        <th id=\"T_ce1087de_d851_11e9_96bf_38f9d367ce9blevel0_row2\" class=\"row_heading level0 row2\" >108</th>\n",
       "                        <th id=\"T_ce1087de_d851_11e9_96bf_38f9d367ce9blevel1_row2\" class=\"row_heading level1 row2\" >Extraction, Quickblade Of Trembling Hands</th>\n",
       "                        <td id=\"T_ce1087de_d851_11e9_96bf_38f9d367ce9brow2_col0\" class=\"data row2 col0\" >9</td>\n",
       "                        <td id=\"T_ce1087de_d851_11e9_96bf_38f9d367ce9brow2_col1\" class=\"data row2 col1\" >$3.53</td>\n",
       "                        <td id=\"T_ce1087de_d851_11e9_96bf_38f9d367ce9brow2_col2\" class=\"data row2 col2\" >$31.77</td>\n",
       "            </tr>\n",
       "            <tr>\n",
       "                        <th id=\"T_ce1087de_d851_11e9_96bf_38f9d367ce9blevel0_row3\" class=\"row_heading level0 row3\" >82</th>\n",
       "                        <th id=\"T_ce1087de_d851_11e9_96bf_38f9d367ce9blevel1_row3\" class=\"row_heading level1 row3\" >Nirvana</th>\n",
       "                        <td id=\"T_ce1087de_d851_11e9_96bf_38f9d367ce9brow3_col0\" class=\"data row3 col0\" >9</td>\n",
       "                        <td id=\"T_ce1087de_d851_11e9_96bf_38f9d367ce9brow3_col1\" class=\"data row3 col1\" >$4.90</td>\n",
       "                        <td id=\"T_ce1087de_d851_11e9_96bf_38f9d367ce9brow3_col2\" class=\"data row3 col2\" >$44.10</td>\n",
       "            </tr>\n",
       "            <tr>\n",
       "                        <th id=\"T_ce1087de_d851_11e9_96bf_38f9d367ce9blevel0_row4\" class=\"row_heading level0 row4\" >19</th>\n",
       "                        <th id=\"T_ce1087de_d851_11e9_96bf_38f9d367ce9blevel1_row4\" class=\"row_heading level1 row4\" >Pursuit, Cudgel of Necromancy</th>\n",
       "                        <td id=\"T_ce1087de_d851_11e9_96bf_38f9d367ce9brow4_col0\" class=\"data row4 col0\" >8</td>\n",
       "                        <td id=\"T_ce1087de_d851_11e9_96bf_38f9d367ce9brow4_col1\" class=\"data row4 col1\" >$1.02</td>\n",
       "                        <td id=\"T_ce1087de_d851_11e9_96bf_38f9d367ce9brow4_col2\" class=\"data row4 col2\" >$8.16</td>\n",
       "            </tr>\n",
       "    </tbody></table>"
      ],
      "text/plain": [
       "<pandas.io.formats.style.Styler at 0x113811cc0>"
      ]
     },
     "execution_count": 28,
     "metadata": {},
     "output_type": "execute_result"
    }
   ],
   "source": [
    "items_purchase_count_df = purchase_data.groupby([\"Item ID\", \"Item Name\"]).count()[\"Price\"].rename(\"Purchase Count\")\n",
    "items_average_price_df = purchase_data.groupby([\"Item ID\", \"Item Name\"]).mean()[\"Price\"].rename(\"Average Purchase Price\")\n",
    "items_value_total_df = purchase_data.groupby([\"Item ID\", \"Item Name\"]).sum()[\"Price\"].rename(\"Total Purchase Value\")\n",
    "\n",
    "items_purchased_df = pd.DataFrame({\"Purchase Count\":items_purchase_count_df,\n",
    "                                   \"Item Price\":items_average_price_df,\n",
    "                                   \"Total Purchase Value\":items_value_total_df,})\n",
    "\n",
    "most_popular_items_df = items_purchased_df.sort_values(\"Purchase Count\", ascending=False).head()\n",
    "most_popular_items_df.style.format({\"Item Price\":\"${:,.2f}\",\"Total Purchase Value\":\"${:,.2f}\"})"
   ]
  },
  {
   "cell_type": "markdown",
   "metadata": {},
   "source": [
    "## Most Profitable Items"
   ]
  },
  {
   "cell_type": "markdown",
   "metadata": {},
   "source": [
    "* Sort the above table by total purchase value in descending order\n",
    "\n",
    "\n",
    "* Optional: give the displayed data cleaner formatting\n",
    "\n",
    "\n",
    "* Display a preview of the data frame\n",
    "\n"
   ]
  },
  {
   "cell_type": "code",
   "execution_count": 29,
   "metadata": {},
   "outputs": [
    {
     "data": {
      "text/html": [
       "<style  type=\"text/css\" >\n",
       "</style><table id=\"T_e807c62a_d851_11e9_96bf_38f9d367ce9b\" ><thead>    <tr>        <th class=\"blank\" ></th>        <th class=\"blank level0\" ></th>        <th class=\"col_heading level0 col0\" >Purchase Count</th>        <th class=\"col_heading level0 col1\" >Item Price</th>        <th class=\"col_heading level0 col2\" >Total Purchase Value</th>    </tr>    <tr>        <th class=\"index_name level0\" >Item ID</th>        <th class=\"index_name level1\" >Item Name</th>        <th class=\"blank\" ></th>        <th class=\"blank\" ></th>        <th class=\"blank\" ></th>    </tr></thead><tbody>\n",
       "                <tr>\n",
       "                        <th id=\"T_e807c62a_d851_11e9_96bf_38f9d367ce9blevel0_row0\" class=\"row_heading level0 row0\" >178</th>\n",
       "                        <th id=\"T_e807c62a_d851_11e9_96bf_38f9d367ce9blevel1_row0\" class=\"row_heading level1 row0\" >Oathbreaker, Last Hope of the Breaking Storm</th>\n",
       "                        <td id=\"T_e807c62a_d851_11e9_96bf_38f9d367ce9brow0_col0\" class=\"data row0 col0\" >12</td>\n",
       "                        <td id=\"T_e807c62a_d851_11e9_96bf_38f9d367ce9brow0_col1\" class=\"data row0 col1\" >$4.23</td>\n",
       "                        <td id=\"T_e807c62a_d851_11e9_96bf_38f9d367ce9brow0_col2\" class=\"data row0 col2\" >$50.76</td>\n",
       "            </tr>\n",
       "            <tr>\n",
       "                        <th id=\"T_e807c62a_d851_11e9_96bf_38f9d367ce9blevel0_row1\" class=\"row_heading level0 row1\" >82</th>\n",
       "                        <th id=\"T_e807c62a_d851_11e9_96bf_38f9d367ce9blevel1_row1\" class=\"row_heading level1 row1\" >Nirvana</th>\n",
       "                        <td id=\"T_e807c62a_d851_11e9_96bf_38f9d367ce9brow1_col0\" class=\"data row1 col0\" >9</td>\n",
       "                        <td id=\"T_e807c62a_d851_11e9_96bf_38f9d367ce9brow1_col1\" class=\"data row1 col1\" >$4.90</td>\n",
       "                        <td id=\"T_e807c62a_d851_11e9_96bf_38f9d367ce9brow1_col2\" class=\"data row1 col2\" >$44.10</td>\n",
       "            </tr>\n",
       "            <tr>\n",
       "                        <th id=\"T_e807c62a_d851_11e9_96bf_38f9d367ce9blevel0_row2\" class=\"row_heading level0 row2\" >145</th>\n",
       "                        <th id=\"T_e807c62a_d851_11e9_96bf_38f9d367ce9blevel1_row2\" class=\"row_heading level1 row2\" >Fiery Glass Crusader</th>\n",
       "                        <td id=\"T_e807c62a_d851_11e9_96bf_38f9d367ce9brow2_col0\" class=\"data row2 col0\" >9</td>\n",
       "                        <td id=\"T_e807c62a_d851_11e9_96bf_38f9d367ce9brow2_col1\" class=\"data row2 col1\" >$4.58</td>\n",
       "                        <td id=\"T_e807c62a_d851_11e9_96bf_38f9d367ce9brow2_col2\" class=\"data row2 col2\" >$41.22</td>\n",
       "            </tr>\n",
       "            <tr>\n",
       "                        <th id=\"T_e807c62a_d851_11e9_96bf_38f9d367ce9blevel0_row3\" class=\"row_heading level0 row3\" >92</th>\n",
       "                        <th id=\"T_e807c62a_d851_11e9_96bf_38f9d367ce9blevel1_row3\" class=\"row_heading level1 row3\" >Final Critic</th>\n",
       "                        <td id=\"T_e807c62a_d851_11e9_96bf_38f9d367ce9brow3_col0\" class=\"data row3 col0\" >8</td>\n",
       "                        <td id=\"T_e807c62a_d851_11e9_96bf_38f9d367ce9brow3_col1\" class=\"data row3 col1\" >$4.88</td>\n",
       "                        <td id=\"T_e807c62a_d851_11e9_96bf_38f9d367ce9brow3_col2\" class=\"data row3 col2\" >$39.04</td>\n",
       "            </tr>\n",
       "            <tr>\n",
       "                        <th id=\"T_e807c62a_d851_11e9_96bf_38f9d367ce9blevel0_row4\" class=\"row_heading level0 row4\" >103</th>\n",
       "                        <th id=\"T_e807c62a_d851_11e9_96bf_38f9d367ce9blevel1_row4\" class=\"row_heading level1 row4\" >Singed Scalpel</th>\n",
       "                        <td id=\"T_e807c62a_d851_11e9_96bf_38f9d367ce9brow4_col0\" class=\"data row4 col0\" >8</td>\n",
       "                        <td id=\"T_e807c62a_d851_11e9_96bf_38f9d367ce9brow4_col1\" class=\"data row4 col1\" >$4.35</td>\n",
       "                        <td id=\"T_e807c62a_d851_11e9_96bf_38f9d367ce9brow4_col2\" class=\"data row4 col2\" >$34.80</td>\n",
       "            </tr>\n",
       "    </tbody></table>"
      ],
      "text/plain": [
       "<pandas.io.formats.style.Styler at 0x1133cff98>"
      ]
     },
     "execution_count": 29,
     "metadata": {},
     "output_type": "execute_result"
    }
   ],
   "source": [
    "items_purchase_count_df = purchase_data.groupby([\"Item ID\", \"Item Name\"]).count()[\"Price\"].rename(\"Purchase Count\")\n",
    "items_average_price_df = purchase_data.groupby([\"Item ID\", \"Item Name\"]).mean()[\"Price\"].rename(\"Average Purchase Price\")\n",
    "items_value_total_df = purchase_data.groupby([\"Item ID\", \"Item Name\"]).sum()[\"Price\"].rename(\"Total Purchase Value\")\n",
    "\n",
    "\n",
    "\n",
    "items_purchased_df = pd.DataFrame({\"Purchase Count\":items_purchase_count_df,\n",
    "                                   \"Item Price\":items_average_price_df,\n",
    "                                   \"Total Purchase Value\":items_value_total_df,})\n",
    "\n",
    "most_popular_items_df = items_purchased_df.sort_values(\"Total Purchase Value\", ascending=False).head()\n",
    "most_popular_items_df.style.format({\"Item Price\":\"${:,.2f}\",\"Total Purchase Value\":\"${:,.2f}\"})"
   ]
  }
 ],
 "metadata": {
  "anaconda-cloud": {},
  "kernel_info": {
   "name": "python3"
  },
  "kernelspec": {
   "display_name": "Python 3",
   "language": "python",
   "name": "python3"
  },
  "language_info": {
   "codemirror_mode": {
    "name": "ipython",
    "version": 3
   },
   "file_extension": ".py",
   "mimetype": "text/x-python",
   "name": "python",
   "nbconvert_exporter": "python",
   "pygments_lexer": "ipython3",
   "version": "3.7.3"
  },
  "nteract": {
   "version": "0.2.0"
  }
 },
 "nbformat": 4,
 "nbformat_minor": 2
}
